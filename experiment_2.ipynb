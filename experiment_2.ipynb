{
 "cells": [
  {
   "cell_type": "code",
   "execution_count": 14,
   "metadata": {},
   "outputs": [],
   "source": [
    "import os\n",
    "from pydub import AudioSegment\n",
    "from openai import AzureOpenAI\n",
    "from dotenv import load_dotenv\n",
    "\n",
    "import base64\n",
    "from mimetypes import guess_type\n",
    "import os\n",
    "\n",
    "load_dotenv()\n",
    "\n",
    "WHISPER_API = os.getenv('WHISPER_API')\n",
    "WHISPER_VERSION = os.getenv('WHISPER_VERSION')\n",
    "WHISPER_KEY = os.getenv('WHISPER_KEY')\n",
    "WHISPER_NAME = os.getenv('WHISPER_NAME')"
   ]
  },
  {
   "cell_type": "code",
   "execution_count": 2,
   "metadata": {},
   "outputs": [
    {
     "data": {
      "text/plain": [
       "'https://stude-majolquk-eastus2.cognitiveservices.azure.com'"
      ]
     },
     "execution_count": 2,
     "metadata": {},
     "output_type": "execute_result"
    }
   ],
   "source": [
    "WHISPER_API"
   ]
  },
  {
   "cell_type": "code",
   "execution_count": 3,
   "metadata": {},
   "outputs": [
    {
     "data": {
      "text/plain": [
       "'2024-06-01'"
      ]
     },
     "execution_count": 3,
     "metadata": {},
     "output_type": "execute_result"
    }
   ],
   "source": [
    "WHISPER_VERSION"
   ]
  },
  {
   "cell_type": "code",
   "execution_count": 4,
   "metadata": {},
   "outputs": [
    {
     "data": {
      "text/plain": [
       "'DU4SAGtULfobqJ9uymSHOZtsnYal2IjSKLkwbeoBNmJpLUWKeYoPJQQJ99BEACHYHv6XJ3w3AAAAACOG5nBO'"
      ]
     },
     "execution_count": 4,
     "metadata": {},
     "output_type": "execute_result"
    }
   ],
   "source": [
    "WHISPER_KEY"
   ]
  },
  {
   "cell_type": "code",
   "execution_count": 5,
   "metadata": {},
   "outputs": [
    {
     "data": {
      "text/plain": [
       "'whisper'"
      ]
     },
     "execution_count": 5,
     "metadata": {},
     "output_type": "execute_result"
    }
   ],
   "source": [
    "WHISPER_NAME"
   ]
  },
  {
   "cell_type": "code",
   "execution_count": 6,
   "metadata": {},
   "outputs": [],
   "source": [
    "audio_file = open(\"audio/complain.m4a\", \"rb\")"
   ]
  },
  {
   "cell_type": "code",
   "execution_count": 7,
   "metadata": {},
   "outputs": [
    {
     "data": {
      "text/plain": [
       "_io.BufferedReader"
      ]
     },
     "execution_count": 7,
     "metadata": {},
     "output_type": "execute_result"
    }
   ],
   "source": [
    "type(audio_file)"
   ]
  },
  {
   "cell_type": "code",
   "execution_count": 8,
   "metadata": {},
   "outputs": [],
   "source": [
    "client = AzureOpenAI(\n",
    "        api_version=WHISPER_VERSION,\n",
    "        api_key=WHISPER_KEY,\n",
    "        azure_endpoint=WHISPER_API\n",
    "    )"
   ]
  },
  {
   "cell_type": "code",
   "execution_count": 9,
   "metadata": {},
   "outputs": [
    {
     "name": "stdout",
     "output_type": "stream",
     "text": [
      "Hello, I have problem with the keyboard that I just bought from your shop two weeks ago. The arrow button doesn't work for some reasons. Can you have a look for me please?\n"
     ]
    }
   ],
   "source": [
    "translation = client.audio.translations.create(\n",
    "    model=WHISPER_NAME, \n",
    "    file=audio_file,\n",
    ")\n",
    "\n",
    "print(translation.text)"
   ]
  },
  {
   "cell_type": "code",
   "execution_count": 10,
   "metadata": {},
   "outputs": [
    {
     "data": {
      "text/plain": [
       "Translation(text=\"Hello, I have problem with the keyboard that I just bought from your shop two weeks ago. The arrow button doesn't work for some reasons. Can you have a look for me please?\")"
      ]
     },
     "execution_count": 10,
     "metadata": {},
     "output_type": "execute_result"
    }
   ],
   "source": [
    "translation"
   ]
  },
  {
   "cell_type": "code",
   "execution_count": 15,
   "metadata": {},
   "outputs": [],
   "source": [
    "def local_image_to_data_url(image_path):\n",
    "    mime_type, _ = guess_type(image_path)\n",
    "    if mime_type is None:\n",
    "        mime_type = 'application/octet-stream'\n",
    "        \n",
    "    with open(image_path, \"rb\") as image_file:\n",
    "        base64_encoded_data = base64.b64encode(\n",
    "            image_file.read()).decode('utf-8')\n",
    "    return f\"data:{mime_type};base64,{base64_encoded_data}\""
   ]
  },
  {
   "cell_type": "code",
   "execution_count": 16,
   "metadata": {},
   "outputs": [],
   "source": [
    "data_url = local_image_to_data_url('output/generated_image.png')"
   ]
  },
  {
   "cell_type": "code",
   "execution_count": 17,
   "metadata": {},
   "outputs": [],
   "source": [
    "prompt = \"\"\"\n",
    "        Extract or identify problem of gadgets.\n",
    "        List the problem or component in Python List of text\n",
    "        \"\"\""
   ]
  },
  {
   "cell_type": "code",
   "execution_count": 18,
   "metadata": {},
   "outputs": [
    {
     "name": "stdout",
     "output_type": "stream",
     "text": [
      "[\n",
      "  \"Potential connectivity issue\",\n",
      "  \"Button malfunction or unresponsive\",\n",
      "  \"Display or screen issue\",\n",
      "  \"Battery or power supply problem\",\n",
      "  \"Hardware component failure\",\n",
      "  \"Software or firmware glitch\",\n",
      "  \"Sensor or input device problem\",\n",
      "  \"Camera or peripheral malfunction\",\n",
      "  \"Network or signal issue\"\n",
      "]\n"
     ]
    }
   ],
   "source": [
    "import os\n",
    "from openai import AzureOpenAI\n",
    "\n",
    "endpoint = \"https://stude-majolquk-eastus2.openai.azure.com/\"\n",
    "model_name = \"gpt-4.1-nano\"\n",
    "deployment = \"gpt-4.1-nano\"\n",
    "\n",
    "subscription_key = \"DU4SAGtULfobqJ9uymSHOZtsnYal2IjSKLkwbeoBNmJpLUWKeYoPJQQJ99BEACHYHv6XJ3w3AAAAACOG5nBO\"\n",
    "api_version = \"2024-12-01-preview\"\n",
    "\n",
    "client = AzureOpenAI(\n",
    "api_version=api_version,\n",
    "azure_endpoint=endpoint,\n",
    "api_key=subscription_key,\n",
    ")\n",
    "\n",
    "response = client.chat.completions.create(\n",
    "messages=[\n",
    "            {\"role\": \"system\", \"content\": \"You are a technical assistant to help diagnose problem of gadgets.\"},\n",
    "            {\n",
    "                \"role\": \"user\",\n",
    "                \"content\": [\n",
    "                    {\"type\": \"text\", \"text\": prompt},\n",
    "                    {\"type\": \"image_url\", \"image_url\": {\"url\": data_url}}\n",
    "                ]\n",
    "            }\n",
    "],\n",
    "max_completion_tokens=800,\n",
    "temperature=1.0,\n",
    "top_p=1.0,\n",
    "frequency_penalty=0.0,\n",
    "presence_penalty=0.0,\n",
    "model=deployment\n",
    ")\n",
    "\n",
    "print(response.choices[0].message.content)"
   ]
  },
  {
   "cell_type": "code",
   "execution_count": null,
   "metadata": {},
   "outputs": [],
   "source": []
  }
 ],
 "metadata": {
  "kernelspec": {
   "display_name": "udacity-env",
   "language": "python",
   "name": "python3"
  },
  "language_info": {
   "codemirror_mode": {
    "name": "ipython",
    "version": 3
   },
   "file_extension": ".py",
   "mimetype": "text/x-python",
   "name": "python",
   "nbconvert_exporter": "python",
   "pygments_lexer": "ipython3",
   "version": "3.12.2"
  }
 },
 "nbformat": 4,
 "nbformat_minor": 2
}
